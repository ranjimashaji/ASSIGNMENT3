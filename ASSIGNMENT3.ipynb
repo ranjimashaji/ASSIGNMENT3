{
 "cells": [
  {
   "cell_type": "markdown",
   "metadata": {},
   "source": [
    "# QUESTION1"
   ]
  },
  {
   "cell_type": "code",
   "execution_count": 1,
   "metadata": {},
   "outputs": [
    {
     "name": "stdout",
     "output_type": "stream",
     "text": [
      "[ 2  5  8 11 14 17 20 23 26 29 32 35 38 41 44 47]\n"
     ]
    }
   ],
   "source": [
    "import numpy as np \n",
    "  \n",
    "# Printing all numbers starting from 2 to 50 with stepsize of 3 \n",
    "print(np.arange(2, 50, 3))"
   ]
  },
  {
   "cell_type": "markdown",
   "metadata": {},
   "source": [
    "# QUESTION2"
   ]
  },
  {
   "cell_type": "code",
   "execution_count": 26,
   "metadata": {},
   "outputs": [
    {
     "name": "stdout",
     "output_type": "stream",
     "text": [
      "1\n",
      "2\n",
      "3\n",
      "4\n",
      "5\n",
      "second list\n",
      "6\n",
      "7\n",
      "8\n",
      "9\n",
      "1\n",
      "first list:\n",
      " [1 2 3 4 5]\n",
      "second list: [6 7 8 9 1]\n",
      "Concatenated array  [1 2 3 4 5 6 7 8 9 1]\n",
      "Sorted Array  [1 1 2 3 4 5 6 7 8 9]\n"
     ]
    }
   ],
   "source": [
    "l1=[]\n",
    "l2=[]\n",
    "n=5\n",
    "for i in range(1,n+1):\n",
    "    #first list\n",
    "    num1=int(input())\n",
    "    l1.append(num1 )\n",
    "    \n",
    "print(\"second list\")\n",
    "for i in range(1,n+1):\n",
    "    \n",
    "    num2=int(input())\n",
    "    l2.append(num2) \n",
    "    \n",
    "\n",
    "farr = np.array(l1)\n",
    "sarr = np.array(l2)\n",
    "print(\"first list:\\n\",farr)\n",
    "print(\"second list:\\n\",sarr)\n",
    "Concat_arr = np.concatenate((farr, sarr), axis=0)\n",
    "print(\"Concatenated array \", Concat_arr)\n",
    "Concat_arr.sort()\n",
    "print(\"Sorted Array \", Concat_arr)"
   ]
  },
  {
   "cell_type": "markdown",
   "metadata": {},
   "source": [
    "# QUESTION3"
   ]
  },
  {
   "cell_type": "code",
   "execution_count": 3,
   "metadata": {},
   "outputs": [
    {
     "name": "stdout",
     "output_type": "stream",
     "text": [
      "[[ 1  2  3  8]\n",
      " [ 4  5  7 14]\n",
      " [10 12 13 11]]\n",
      "Number of Rows :  3\n",
      "Number of Columns :  4\n"
     ]
    }
   ],
   "source": [
    "arr2 = np.array([[1 ,2,3,8], [4, 5,7,14], [10,12,13,11]])\n",
    "print(arr2)\n",
    "Rows = np.size(arr2, 0)\n",
    "Columns = np.size(arr2, 1)\n",
    "print('Number of Rows : ', Rows)\n",
    "print('Number of Columns : ', Columns)"
   ]
  },
  {
   "cell_type": "markdown",
   "metadata": {},
   "source": [
    "# QUESTION4"
   ]
  },
  {
   "cell_type": "code",
   "execution_count": 41,
   "metadata": {},
   "outputs": [
    {
     "name": "stdout",
     "output_type": "stream",
     "text": [
      "[[ 1  2  3  4  5]\n",
      " [ 6  7  8  9 10]]\n"
     ]
    }
   ],
   "source": [
    "arr1 = np.array([1, 2, 3, 4, 5, 6, 7, 8, 9,10])\n",
    "arrnew=np.expand_dims(arr1, axis=0)\n",
    "print(arrnew.reshape(2,5))"
   ]
  },
  {
   "cell_type": "markdown",
   "metadata": {},
   "source": [
    "# QUESTION5"
   ]
  },
  {
   "cell_type": "code",
   "execution_count": 16,
   "metadata": {},
   "outputs": [
    {
     "name": "stdout",
     "output_type": "stream",
     "text": [
      "Vertical stacking:\n",
      " [[11 22]\n",
      " [33 44]\n",
      " [15 26]\n",
      " [17  8]]\n",
      "\n",
      "Horizontal stacking:\n",
      " [[11 22 15 26]\n",
      " [33 44 17  8]]\n"
     ]
    }
   ],
   "source": [
    "a = np.array([[11, 22], \n",
    "              [33, 44]]) \n",
    "  \n",
    "b = np.array([[15, 26], \n",
    "              [17, 8]]) \n",
    "  \n",
    "# vertical stacking \n",
    "print(\"Vertical stacking:\\n\", np.vstack((a, b))) \n",
    "  \n",
    "# horizontal stacking \n",
    "print(\"\\nHorizontal stacking:\\n\", np.hstack((a, b)))"
   ]
  },
  {
   "cell_type": "markdown",
   "metadata": {},
   "source": [
    "# QUESTION6"
   ]
  },
  {
   "cell_type": "code",
   "execution_count": 28,
   "metadata": {},
   "outputs": [
    {
     "name": "stdout",
     "output_type": "stream",
     "text": [
      "[1 2 3 5]\n",
      "No of unique items: 4\n"
     ]
    }
   ],
   "source": [
    "def unique(list1): \n",
    "    a = np.array(list1) \n",
    "    print(np.unique(a)) \n",
    "      \n",
    "# driver code \n",
    "list1 = [1, 2, 5, 2, 1, 3]  \n",
    "unique(list1) \n",
    "  \n",
    "# converting our list to set \n",
    "set1 = set(list1) \n",
    "print(\"No of unique items:\", len(set1))"
   ]
  },
  {
   "cell_type": "code",
   "execution_count": null,
   "metadata": {},
   "outputs": [],
   "source": []
  }
 ],
 "metadata": {
  "kernelspec": {
   "display_name": "Python 3",
   "language": "python",
   "name": "python3"
  },
  "language_info": {
   "codemirror_mode": {
    "name": "ipython",
    "version": 3
   },
   "file_extension": ".py",
   "mimetype": "text/x-python",
   "name": "python",
   "nbconvert_exporter": "python",
   "pygments_lexer": "ipython3",
   "version": "3.8.3"
  }
 },
 "nbformat": 4,
 "nbformat_minor": 4
}
